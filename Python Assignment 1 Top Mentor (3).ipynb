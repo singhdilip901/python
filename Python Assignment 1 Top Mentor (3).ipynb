{
 "cells": [
  {
   "cell_type": "code",
   "execution_count": 1,
   "id": "061be326",
   "metadata": {},
   "outputs": [
    {
     "name": "stdout",
     "output_type": "stream",
     "text": [
      "Name -     Dilip Singh\n",
      "Address-   House No 251, Sarita Vihar, New Delhi India 11076\n",
      "Mobile No- 901548965/9821788603\n"
     ]
    }
   ],
   "source": [
    "#### Assignment 1(1)\n",
    "print(\"Name -     Dilip Singh\")\n",
    "print(\"Address-   House No 251, Sarita Vihar, New Delhi India 11076\")\n",
    "print(\"Mobile No- 901548965/9821788603\")"
   ]
  },
  {
   "cell_type": "code",
   "execution_count": 8,
   "id": "c14d670b",
   "metadata": {},
   "outputs": [
    {
     "name": "stdout",
     "output_type": "stream",
     "text": [
      "Enter you Name: Dilip Singh\n",
      "Hello, Dilip Singh\n"
     ]
    }
   ],
   "source": [
    "#### Assignment 1(2)\n",
    "x = input(\"Enter you Name: \")\n",
    "print(\"Hello, {}\".format(x))"
   ]
  },
  {
   "cell_type": "code",
   "execution_count": 2,
   "id": "926f3bbd",
   "metadata": {},
   "outputs": [
    {
     "name": "stdout",
     "output_type": "stream",
     "text": [
      "Enter the width of room: 115.5\n",
      "Enter the length of room:125.6\n",
      "The area of room 14506.800000 square meter\n"
     ]
    }
   ],
   "source": [
    "#### Assignment 1(3)\n",
    "width = float(input(\"Enter the width of room: \"))\n",
    "length = float(input(\"Enter the length of room:\"))\n",
    "area = width * length\n",
    "print(\"The area of room %f\" %area, \"square meter\")"
   ]
  },
  {
   "cell_type": "code",
   "execution_count": 10,
   "id": "81e88196",
   "metadata": {},
   "outputs": [
    {
     "name": "stdout",
     "output_type": "stream",
     "text": [
      "Enter the width of field in feet: 1105.56\n",
      "Enter the lenght of field in feet: 1425.36\n",
      "The field area is %d 36.17587239669421 acres\n"
     ]
    }
   ],
   "source": [
    "#### Assignment 1(4)\n",
    "acre = 43560\n",
    "width = float(input(\"Enter the width of field in feet: \"))\n",
    "length = float(input(\"Enter the lenght of field in feet: \"))\n",
    "area = width*length/acre\n",
    "print(\"The field area is %d\", area, \"acres\")"
   ]
  },
  {
   "cell_type": "code",
   "execution_count": 13,
   "id": "166e8a77",
   "metadata": {},
   "outputs": [
    {
     "name": "stdout",
     "output_type": "stream",
     "text": [
      "Enter the number of small container: 1250\n",
      "Enter the number of large container: 1546\n",
      "Total refund amount on all container is $511.50.\n"
     ]
    }
   ],
   "source": [
    "#### Assignment 1(5)\n",
    "deposit1 = 0.10\n",
    "deposit2 = 0.25\n",
    "small_container = int(input(\"Enter the number of small container: \"))\n",
    "large_container = int(input(\"Enter the number of large container: \"))\n",
    "refund = small_container *deposit1 + large_container * deposit2\n",
    "print(\"Total refund amount on all container is $%.2f.\" %refund)"
   ]
  },
  {
   "cell_type": "code",
   "execution_count": 10,
   "id": "786f85c4",
   "metadata": {},
   "outputs": [
    {
     "name": "stdout",
     "output_type": "stream",
     "text": [
      "Enter cost of meal odered at a resturant: 200\n",
      "The grand total cost of meal at a restaurant 246.0, tip on cost @ 18% 36.0, gst amount is 10.0\n"
     ]
    }
   ],
   "source": [
    "#### Assignment 1(6)\n",
    "gst = 0.05\n",
    "cost_of_meal = int(input(\"Enter cost of meal odered at a resturant: \"))\n",
    "tip = c*0.18\n",
    "gst_amount = c*(gst)\n",
    "grand_total = c + tip + (c*gst)\n",
    "print(\"The grand total cost of meal at a restaurant {0}, tip on cost @ 18% {1}, gst amount is {2}\".format(grand_total, tip, gst_amount))"
   ]
  },
  {
   "cell_type": "code",
   "execution_count": 21,
   "id": "b4b644e7",
   "metadata": {},
   "outputs": [
    {
     "name": "stdout",
     "output_type": "stream",
     "text": [
      "Enter miles per gallan fuel consumed: 156\n",
      "the fuel consumed in candian unit is 25.61\n"
     ]
    }
   ],
   "source": [
    "#### Assignment 1(7)\n",
    "#### i denote here distance in km as dist_km and disttance in miles as dist_ml\n",
    "litre_per_gallon = 3.78541\n",
    "km_per_miles = 1.60934\n",
    "miles_per_gallon = int(input(\"Enter miles per gallan fuel consumed: \"))\n",
    "litre_per_100km = miles_per_gallon/(litre_per_gallon*km_per_miles)\n",
    "print(\"the fuel consumed in candian unit is %.2f\" %litre_per_100km)"
   ]
  },
  {
   "cell_type": "code",
   "execution_count": 1,
   "id": "3ff6cac5",
   "metadata": {},
   "outputs": [
    {
     "name": "stdout",
     "output_type": "stream",
     "text": [
      "Enter you height in feet: 6\n",
      "Enter your hieght in inches: 6\n",
      "The height of human in cm 198.12\n"
     ]
    }
   ],
   "source": [
    "#### Assignment 1(8)\n",
    "#### height_in_feet as h1 & height_in_inch  as h2 and final output denote as h_cm\n",
    "feet_in_inch = 12\n",
    "inch_in_cm = 2.54\n",
    "h1 = int(input(\"Enter you height in feet: \"))\n",
    "h2 = int(input(\"Enter your hieght in inches: \"))\n",
    "h_cm = h1*12*2.54 + h2*2.54\n",
    "print(\"The height of human in cm %.2f\" %h_cm)"
   ]
  },
  {
   "cell_type": "code",
   "execution_count": null,
   "id": "a0852e2e",
   "metadata": {},
   "outputs": [],
   "source": []
  }
 ],
 "metadata": {
  "kernelspec": {
   "display_name": "Python 3",
   "language": "python",
   "name": "python3"
  },
  "language_info": {
   "codemirror_mode": {
    "name": "ipython",
    "version": 3
   },
   "file_extension": ".py",
   "mimetype": "text/x-python",
   "name": "python",
   "nbconvert_exporter": "python",
   "pygments_lexer": "ipython3",
   "version": "3.8.8"
  }
 },
 "nbformat": 4,
 "nbformat_minor": 5
}
